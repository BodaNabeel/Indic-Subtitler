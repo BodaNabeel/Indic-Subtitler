{
 "cells": [
  {
   "cell_type": "markdown",
   "id": "aab168b9-47db-4971-8dca-31972916f320",
   "metadata": {},
   "source": [
    "## Malayalam Speech Keyword generator"
   ]
  },
  {
   "cell_type": "code",
   "execution_count": 1,
   "id": "be9eaf9d-fac9-4e33-8bfc-4984f194aa90",
   "metadata": {
    "tags": []
   },
   "outputs": [
    {
     "name": "stdout",
     "output_type": "stream",
     "text": [
      "\u001b[31mERROR: pip's dependency resolver does not currently take into account all the packages that are installed. This behaviour is the source of the following dependency conflicts.\n",
      "torchvision 0.16.0a0 requires torch==2.1.0a0+4136153, but you have torch 2.1.1 which is incompatible.\n",
      "torchtext 0.16.0a0 requires torch==2.1.0a0+4136153, but you have torch 2.1.1 which is incompatible.\n",
      "torchdata 0.7.0a0 requires torch==2.1.0a0+4136153, but you have torch 2.1.1 which is incompatible.\n",
      "numba 0.56.4+1.g5f1bc7084 requires numpy<1.24,>=1.18, but you have numpy 1.26.3 which is incompatible.\n",
      "cupy-cuda12x 12.0.0b3 requires numpy<1.26,>=1.20, but you have numpy 1.26.3 which is incompatible.\u001b[0m\n",
      "\u001b[31mERROR: pip's dependency resolver does not currently take into account all the packages that are installed. This behaviour is the source of the following dependency conflicts.\n",
      "torchvision 0.16.0a0 requires torch==2.1.0a0+4136153, but you have torch 2.1.1 which is incompatible.\n",
      "torchtext 0.16.0a0 requires torch==2.1.0a0+4136153, but you have torch 2.1.1 which is incompatible.\n",
      "torchdata 0.7.0a0 requires torch==2.1.0a0+4136153, but you have torch 2.1.1 which is incompatible.\n",
      "google-auth 2.20.0 requires urllib3<2.0, but you have urllib3 2.1.0 which is incompatible.\u001b[0m\n"
     ]
    }
   ],
   "source": [
    "!pip install -Uqq fairseq2\n",
    "!pip install  -Uqq  pydub sentencepiece\n",
    "!pip install  -Uqq git+https://github.com/facebookresearch/seamless_communication.git"
   ]
  },
  {
   "cell_type": "code",
   "execution_count": 23,
   "id": "2ce361c8-c1f1-4d75-aa26-93adc78b8163",
   "metadata": {
    "tags": []
   },
   "outputs": [],
   "source": [
    "! pip install -Uqq git+https://github.com/huggingface/transformers.git (4.37.2)\n",
    "! pip install peft"
   ]
  },
  {
   "cell_type": "code",
   "execution_count": 2,
   "id": "b90fbc97-0f49-4c59-a0e6-d8a0f6e5c1c0",
   "metadata": {
    "tags": []
   },
   "outputs": [
    {
     "data": {
      "text/plain": [
       "2"
      ]
     },
     "execution_count": 2,
     "metadata": {},
     "output_type": "execute_result"
    }
   ],
   "source": [
    "1 + 1"
   ]
  },
  {
   "cell_type": "code",
   "execution_count": 3,
   "id": "456b6fe5-3272-413c-a971-74e337f868bc",
   "metadata": {
    "tags": []
   },
   "outputs": [],
   "source": [
    "import torch\n",
    "import torchaudio\n",
    "\n",
    "from seamless_communication.inference import Translator\n",
    "from pydub import AudioSegment\n",
    "from transformers import AutoModelForCausalLM, AutoTokenizer\n",
    "\n",
    "import wave\n",
    "import math\n",
    "import os"
   ]
  },
  {
   "cell_type": "code",
   "execution_count": 2,
   "id": "0252ccfe-2bbe-488c-be5f-59c419edbd7e",
   "metadata": {
    "tags": []
   },
   "outputs": [
    {
     "name": "stderr",
     "output_type": "stream",
     "text": [
      "Using the cached checkpoint of seamlessM4T_v2_large. Set `force` to `True` to download again.\n",
      "Using the cached tokenizer of seamlessM4T_v2_large. Set `force` to `True` to download again.\n",
      "Using the cached tokenizer of seamlessM4T_v2_large. Set `force` to `True` to download again.\n",
      "Using the cached tokenizer of seamlessM4T_v2_large. Set `force` to `True` to download again.\n",
      "Using the cached checkpoint of vocoder_v2. Set `force` to `True` to download again.\n",
      "/usr/local/lib/python3.10/dist-packages/torch/nn/utils/weight_norm.py:30: UserWarning: torch.nn.utils.weight_norm is deprecated in favor of torch.nn.utils.parametrizations.weight_norm.\n",
      "  warnings.warn(\"torch.nn.utils.weight_norm is deprecated in favor of torch.nn.utils.parametrizations.weight_norm.\")\n"
     ]
    }
   ],
   "source": [
    "model_name = \"seamlessM4T_v2_large\"\n",
    "vocoder_name = \"vocoder_v2\" if model_name == \"seamlessM4T_v2_large\" else \"vocoder_36langs\"\n",
    "\n",
    "translator = Translator(\n",
    "    model_name,\n",
    "    vocoder_name,\n",
    "    device=torch.device(\"cuda:0\"),\n",
    "    dtype=torch.float16,\n",
    ")"
   ]
  },
  {
   "cell_type": "code",
   "execution_count": 15,
   "id": "74d325bd-0417-41c7-bb06-8e246a7e13f8",
   "metadata": {},
   "outputs": [
    {
     "name": "stdout",
     "output_type": "stream",
     "text": [
      "Duration: 192.45 seconds\n",
      "number of samples  10\n"
     ]
    },
    {
     "name": "stderr",
     "output_type": "stream",
     "text": [
      "Using the cached checkpoint of seamlessM4T_v2_large. Set `force` to `True` to download again.\n",
      "Using the cached tokenizer of seamlessM4T_v2_large. Set `force` to `True` to download again.\n",
      "Using the cached tokenizer of seamlessM4T_v2_large. Set `force` to `True` to download again.\n",
      "Using the cached tokenizer of seamlessM4T_v2_large. Set `force` to `True` to download again.\n",
      "Using the cached checkpoint of vocoder_v2. Set `force` to `True` to download again.\n",
      "/usr/local/lib/python3.10/dist-packages/torch/nn/utils/weight_norm.py:30: UserWarning: torch.nn.utils.weight_norm is deprecated in favor of torch.nn.utils.parametrizations.weight_norm.\n",
      "  warnings.warn(\"torch.nn.utils.weight_norm is deprecated in favor of torch.nn.utils.parametrizations.weight_norm.\")\n"
     ]
    },
    {
     "name": "stdout",
     "output_type": "stream",
     "text": [
      "Minister P. Rajiv's reaction to the criticism of M.T. Vastevana that there is no authoritarianism in Kerala is in the K.L.F.E.D. The minister criticized that the Centre is weakening the constitutional institutions.\n",
      "I don't think it's a question of whether or not we're going to be able to do it, but I think it's a question of whether or not we're going to be able to do it, and I think it's a question of whether or not we're going to be able to do it, because we're not going to be able to do it.\n",
      "In India, only one state, Kerala, has a parliamentary system that is democratic.\n",
      "This is the first time that such a reply or such a reference has been made by Minister P. Rajiv.\n",
      "In this article, we'll look at the history, culture, and ethics of the MTA, and then we'll take a closer look at the history and culture of the MTA, and then we'll look at the history of the MTA, and then we'll take a closer look at the history and ethics of the MTA.\n",
      "It's been a long time since I've been able to say that I'm a big supporter of the MTA, but I'm not a big supporter of the MTA, and I'm not a big supporter of the MTA, and I'm not a big supporter of the MTA, but I'm a big supporter of the MTA.\n",
      "It's been a long time since I've been in the media, but it's been a long time since I've been in the media, but it's been a long time since I've been in the media, and it's been a long time since I was in the media.\n",
      "It's not a case of a dictatorship, it's not a case of the government of Kerala, it's a case of the central government, it's a case of P.R. Rajiv's side, it's a case of the central government undermining the constitution.\n",
      "In any case, the criticism of the MT is to establish that these criticisms are not against you.\n",
      "(Music playing)\n",
      "Minister P. Rajiv's reaction to the criticism of M.T. Vastevana that there is no authoritarianism in Kerala is in the K.L.F.E.D. The minister criticized that the Centre is weakening the constitutional institutions. I don't think it's a question of whether or not we're going to be able to do it, but I think it's a question of whether or not we're going to be able to do it, and I think it's a question of whether or not we're going to be able to do it, because we're not going to be able to do it. In India, only one state, Kerala, has a parliamentary system that is democratic. This is the first time that such a reply or such a reference has been made by Minister P. Rajiv. In this article, we'll look at the history, culture, and ethics of the MTA, and then we'll take a closer look at the history and culture of the MTA, and then we'll look at the history of the MTA, and then we'll take a closer look at the history and ethics of the MTA. It's been a long time since I've been able to say that I'm a big supporter of the MTA, but I'm not a big supporter of the MTA, and I'm not a big supporter of the MTA, and I'm not a big supporter of the MTA, but I'm a big supporter of the MTA. It's been a long time since I've been in the media, but it's been a long time since I've been in the media, but it's been a long time since I've been in the media, and it's been a long time since I was in the media. It's not a case of a dictatorship, it's not a case of the government of Kerala, it's a case of the central government, it's a case of P.R. Rajiv's side, it's a case of the central government undermining the constitution. In any case, the criticism of the MT is to establish that these criticisms are not against you. (Music playing)\n"
     ]
    }
   ],
   "source": [
    "audio_name = \"audios/sample1.wav\"\n",
    "target_lang = \"eng\"\n",
    "\n",
    "# function to calculate the duration of the input audio clip\n",
    "def get_duration_wave(file_path):\n",
    "   with wave.open(file_path, 'r') as audio_file:\n",
    "      frame_rate = audio_file.getframerate()\n",
    "      n_frames = audio_file.getnframes()\n",
    "      duration = n_frames / float(frame_rate)\n",
    "      return duration\n",
    "\n",
    "\n",
    "duration = get_duration_wave(audio_name)\n",
    "print(f\"Duration: {duration:.2f} seconds\")\n",
    "\n",
    "resample_rate = 16000\n",
    "t1 = 0\n",
    "t2 = 20000\n",
    "\n",
    "# Generating 'n' number of audio samples each with 20seconds duration. This is to avoid issue with the maximum sequence length\n",
    "num_samples = math.ceil(duration/20)\n",
    "print(\"number of samples \", num_samples)\n",
    "\n",
    "# Initializing the translator model\n",
    "model_name = \"seamlessM4T_v2_large\"\n",
    "vocoder_name = \"vocoder_v2\" if model_name == \"seamlessM4T_v2_large\" else \"vocoder_36langs\"\n",
    "\n",
    "translator = Translator(\n",
    "    model_name,\n",
    "    vocoder_name,\n",
    "    device=torch.device(\"cuda:0\"),\n",
    "    dtype=torch.float16,\n",
    ")\n",
    "\n",
    "text = []\n",
    "for i in range(num_samples):\n",
    "    newAudio = AudioSegment.from_wav(audio_name)\n",
    "    newAudio = newAudio[t1:t2]\n",
    "    new_audio_name = \"new_\" + str(t1) + \".wav\"\n",
    "    newAudio.export(new_audio_name, format=\"wav\")\n",
    "    waveform, sample_rate = torchaudio.load(new_audio_name)\n",
    "    resampler = torchaudio.transforms.Resample(sample_rate, resample_rate, dtype=waveform.dtype)\n",
    "    resampled_waveform = resampler(waveform)\n",
    "    torchaudio.save(\"resampled.wav\", resampled_waveform, resample_rate)\n",
    "\n",
    "    translated_text, _ = translator.predict(\"resampled.wav\", \"s2tt\", target_lang)\n",
    "    print(translated_text[0])\n",
    "    text.append(str(translated_text[0]))\n",
    "    t1 = t2\n",
    "    t2 += 20000\n",
    "    os.remove(new_audio_name)\n",
    "os.remove(\"resampled.wav\")\n",
    "\n",
    "print(\" \".join(text))"
   ]
  },
  {
   "cell_type": "code",
   "execution_count": 10,
   "id": "cd4be857-0bf7-46f0-8a4b-20db1556af2e",
   "metadata": {
    "tags": []
   },
   "outputs": [],
   "source": [
    "def generate_seamless_response(audio_name, target_lang = \"eng\"):\n",
    "    duration = get_duration_wave(audio_name)\n",
    "    print(f\"Duration: {duration:.2f} seconds\")\n",
    "\n",
    "    resample_rate = 16000\n",
    "    t1 = 0\n",
    "    t2 = 20000\n",
    "\n",
    "    # Generating 'n' number of audio samples each with 20seconds duration. This is to avoid issue with the maximum sequence length\n",
    "    num_samples = math.ceil(duration/20)\n",
    "    print(\"number of samples \", num_samples)\n",
    "\n",
    "    # Initializing the translator model\n",
    "    model_name = \"seamlessM4T_v2_large\"\n",
    "    vocoder_name = \"vocoder_v2\" if model_name == \"seamlessM4T_v2_large\" else \"vocoder_36langs\"\n",
    "\n",
    "    translator = Translator(\n",
    "        model_name,\n",
    "        vocoder_name,\n",
    "        device=torch.device(\"cuda:0\"),\n",
    "        dtype=torch.float16,\n",
    "    )\n",
    "\n",
    "    text = []\n",
    "    for i in range(num_samples):\n",
    "        newAudio = AudioSegment.from_wav(audio_name)\n",
    "        newAudio = newAudio[t1:t2]\n",
    "        new_audio_name = \"new_\" + str(t1) + \".wav\"\n",
    "        newAudio.export(new_audio_name, format=\"wav\")\n",
    "        waveform, sample_rate = torchaudio.load(new_audio_name)\n",
    "        resampler = torchaudio.transforms.Resample(sample_rate, resample_rate, dtype=waveform.dtype)\n",
    "        resampled_waveform = resampler(waveform)\n",
    "        torchaudio.save(\"resampled.wav\", resampled_waveform, resample_rate)\n",
    "\n",
    "        translated_text, _ = translator.predict(\"resampled.wav\", \"s2tt\", target_lang)\n",
    "        print(translated_text[0])\n",
    "        text.append(str(translated_text[0]))\n",
    "        t1 = t2\n",
    "        t2 += 20000\n",
    "        os.remove(new_audio_name)\n",
    "    os.remove(\"resampled.wav\")\n",
    "\n",
    "    return \" \".join(text)\n",
    "\n",
    "def get_duration_wave(file_path):\n",
    "   with wave.open(file_path, 'r') as audio_file:\n",
    "      frame_rate = audio_file.getframerate()\n",
    "      n_frames = audio_file.getnframes()\n",
    "      duration = n_frames / float(frame_rate)\n",
    "      return duration"
   ]
  },
  {
   "cell_type": "code",
   "execution_count": 12,
   "id": "8e401127-73a4-4512-8fa1-05522eaa66aa",
   "metadata": {
    "tags": []
   },
   "outputs": [
    {
     "name": "stdout",
     "output_type": "stream",
     "text": [
      "Duration: 649.42 seconds\n",
      "number of samples  33\n"
     ]
    },
    {
     "name": "stderr",
     "output_type": "stream",
     "text": [
      "Using the cached checkpoint of seamlessM4T_v2_large. Set `force` to `True` to download again.\n",
      "Using the cached tokenizer of seamlessM4T_v2_large. Set `force` to `True` to download again.\n",
      "Using the cached tokenizer of seamlessM4T_v2_large. Set `force` to `True` to download again.\n",
      "Using the cached tokenizer of seamlessM4T_v2_large. Set `force` to `True` to download again.\n",
      "Using the cached checkpoint of vocoder_v2. Set `force` to `True` to download again.\n",
      "/usr/local/lib/python3.10/dist-packages/torch/nn/utils/weight_norm.py:30: UserWarning: torch.nn.utils.weight_norm is deprecated in favor of torch.nn.utils.parametrizations.weight_norm.\n",
      "  warnings.warn(\"torch.nn.utils.weight_norm is deprecated in favor of torch.nn.utils.parametrizations.weight_norm.\")\n"
     ]
    },
    {
     "name": "stdout",
     "output_type": "stream",
     "text": [
      "My book is coming out in about a week and people who are interested in that book will read it and they will realize that this paper Malayalam Manorama has manufactured a sentence\n",
      "and put it in quotes in the headline which is not there I think a responsible publication like Malayalam Manorama when it is putting a written manuscript in quotes at least it should be true to what is written my part\n",
      "Never, ever, not a single sentence in that book accuses my party, insulting my party and my work for 55 years.\n",
      "It's not fair for the author to make a headline and put it in court.\n",
      "From 1985 to 1985 when I was in Delhi and I was called Rita because of the emergency and it's about my experience in Delhi in the trade unions in collectively trying to build a women's organization and my\n",
      "and in that the struggle of a woman to establish in that book the struggle of a young woman\n",
      "to establish an independent identity in politics is part of my own experience but nowhere in this book have I ever made the kind of sentence which Malayalam manorama has put in courts\n",
      "It's unfair, it's unethical to put a headline in a book that doesn't exist in the book. I hope they'll give me an apology.\n",
      "No, that's not what I've written in the book. I'd suggest you read my book.\n",
      "And it's the struggle of women in politics and the kind of patriarchal notions that exist in Indian politics.\n",
      "I would advise you to see the book and understand the context in which things are written and I hope it will help young women to understand the importance and the difference of being in a communist party\n",
      "And being in any other party where women aren't respected, so that's the context in which it's written.\n",
      "It's a sensationalist headline, it's not linked to the text at all, and it says things that aren't written.\n",
      "I don't know what's in the text. I haven't read the whole text, but someone told me that this is the headline. It's a manufactured headline and it's not in the text at all.\n",
      "This is a book, it's a public document, people can read the book if they're interested in reading it, and they'll conclude that the headline given by Malayalam Manorama is a completely 100% manufactured headline.\n",
      "I've never read the text of the article, so I'm not commenting on it, I'm just commenting on the headline, and I don't think it's fair.\n",
      "I don't think it's ethical. It's up to Malayalam Manorama to check and see who gave the headline which is not correct.\n",
      "But there's nothing in the party like censorship or who's writing what. Not at all. Our party doesn't function like that at all. And I'm proud to be a member of the CPI-M.\n",
      "I don't know if it's going to help the book or what it's going to do. I think it should be out in a week. No, it's just a publication.\n",
      "It's only 10 years of my life and that's also only about Delhi and my emergency.\n",
      "How Rita and How Rita Learned About Working in a Party in Communist Politics CPM Politburo member Brinda Karat was responding\n",
      "It's a reference to a book that I've never read, and it's a reference to a book that I've never read, and it's a reference to a book that I've never read.\n",
      "In the morning, there was a report that there was a reference in the memoirs of Brinda Karat that independence was not recognized in the party. Now, when it comes to Brinda Karat's reaction, he has not read the whole story, but as the headline says, there was no such experience from the party.\n",
      "It's been said that from the time of the Great Depression to the time of the Great Depression, there were only a handful of books on the subject, and none of them had a title.\n",
      "I'm sure you've all heard the saying, \"Belarus is the most beautiful place on earth,\" but if you've ever heard the phrase, \"Belarus is the most beautiful place on earth,\" then you've probably heard it all before.\n",
      "It's not just that he's portraying his wife as his wife, it's also that he's not mentioning her in any of his books, and he's throwing away the title altogether, and he's publishing something that he doesn't say in his name that's not ethical.\n",
      "I don't know if you're familiar with it, but I've never read it in detail, because it's in Malayalam, so it's just a headline, and a lot of people contacted me after the headline, and a lot of people contacted me.\n",
      "I'm sure you'll agree with me on the title of this post, but I'm not going to go into too much detail about it, so I'll just leave it at that, and then I'll explain what I mean by the title of this post, and then I'll let you know.\n",
      "I'm not sure if it's true, but it's the fact that she's the only woman in the party who hasn't experienced this kind of thing, and it's the fact that she's the only woman in the party who hasn't experienced this kind of thing.\n",
      "It's been a long time since I've had a chance to share with you my 10 years of experience as a writer, and I'd like to share with you some of the things I've learned from my experience as a writer, and I'd like to share with you some of the things I've learned from my experience as a writer.\n",
      "No, it's a party with freedom of speech. It's a party with freedom of speech. It's a party with freedom of speech.\n",
      "Mr. Balram, the information was given by Mr. Balram himself, and he is completely ignoring the news that his independence has not been recognized.\n",
      "I'm not sure if I'm going to be able to do it.\n"
     ]
    }
   ],
   "source": [
    "\n",
    "\n",
    "text2 = generate_seamless_response(\"audios/sample2.wav\")"
   ]
  },
  {
   "cell_type": "markdown",
   "id": "8216f109-7b77-4a3a-8f43-c825331b8e5c",
   "metadata": {},
   "source": []
  },
  {
   "cell_type": "code",
   "execution_count": null,
   "id": "4330ba59-6c99-4f06-9a0a-e8d8ba9cb232",
   "metadata": {},
   "outputs": [],
   "source": []
  }
 ],
 "metadata": {
  "kernelspec": {
   "display_name": "Python 3 (ipykernel)",
   "language": "python",
   "name": "python3"
  },
  "language_info": {
   "codemirror_mode": {
    "name": "ipython",
    "version": 3
   },
   "file_extension": ".py",
   "mimetype": "text/x-python",
   "name": "python",
   "nbconvert_exporter": "python",
   "pygments_lexer": "ipython3",
   "version": "3.10.12"
  }
 },
 "nbformat": 4,
 "nbformat_minor": 5
}
